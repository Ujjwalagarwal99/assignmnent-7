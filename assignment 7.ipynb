{
 "cells": [
  {
   "cell_type": "code",
   "execution_count": 2,
   "id": "52753fb1-f099-42c2-a4d2-36ace91e9b9b",
   "metadata": {},
   "outputs": [
    {
     "ename": "SyntaxError",
     "evalue": "invalid syntax (3436275465.py, line 6)",
     "output_type": "error",
     "traceback": [
      "\u001b[0;36m  Cell \u001b[0;32mIn[2], line 6\u001b[0;36m\u001b[0m\n\u001b[0;31m    eleif isinstance(item,lst):\u001b[0m\n\u001b[0m          ^\u001b[0m\n\u001b[0;31mSyntaxError\u001b[0m\u001b[0;31m:\u001b[0m invalid syntax\n"
     ]
    }
   ],
   "source": [
    "def product(lst):\n",
    "    num=[]\n",
    "    for item in lst:\n",
    "        if isinstance(item,(int,float)):\n",
    "            num.append(item)\n",
    "        eleif isinstance(item,lst):\n",
    "            num+=[i for i in item if isinstance(i,(int,float))]\n",
    "        eleif isinstance(item,dict):\n",
    "            num+=[i for i in item.values()if isinstance(i,(int,float))]\n",
    "        product=1\n",
    "        for no in num:\n",
    "            product*=no\n",
    "            return product"
   ]
  },
  {
   "cell_type": "code",
   "execution_count": 3,
   "id": "de6d3b7c-c32d-4dfc-9438-8e10fb145858",
   "metadata": {},
   "outputs": [
    {
     "ename": "SyntaxError",
     "evalue": "invalid syntax (2265011975.py, line 1)",
     "output_type": "error",
     "traceback": [
      "\u001b[0;36m  Cell \u001b[0;32mIn[3], line 1\u001b[0;36m\u001b[0m\n\u001b[0;31m    l=[1,2,3,4,[44,,55,66,True],False(34,56,78,89,34),{1,2,3,3,2,1},{1:34,\"key\":[55,67,78,89],4:(45,22,61,34)},[56,'data science'],'Machine learning']\u001b[0m\n\u001b[0m                   ^\u001b[0m\n\u001b[0;31mSyntaxError\u001b[0m\u001b[0;31m:\u001b[0m invalid syntax\n"
     ]
    }
   ],
   "source": [
    "l=[1,2,3,4,[44,,55,66,True],False(34,56,78,89,34),{1,2,3,3,2,1},{1:34,\"key\":[55,67,78,89],4:(45,22,61,34)},[56,'data science'],'Machine learning']\n",
    "result=product(l)\n",
    "print(result)"
   ]
  },
  {
   "cell_type": "code",
   "execution_count": 4,
   "id": "8b2224de-0d7e-48cf-9034-accdfc795118",
   "metadata": {},
   "outputs": [
    {
     "ename": "SyntaxError",
     "evalue": "invalid syntax (4089713268.py, line 6)",
     "output_type": "error",
     "traceback": [
      "\u001b[0;36m  Cell \u001b[0;32mIn[4], line 6\u001b[0;36m\u001b[0m\n\u001b[0;31m    eleif char.isalpha():\u001b[0m\n\u001b[0m          ^\u001b[0m\n\u001b[0;31mSyntaxError\u001b[0m\u001b[0;31m:\u001b[0m invalid syntax\n"
     ]
    }
   ],
   "source": [
    "def encrypt(mess):\n",
    "    encrypted=\"\"\n",
    "    for char in mess.lower():\n",
    "        if char==\"\":\n",
    "            encrypted+='$'\n",
    "        eleif char.isalpha():\n",
    "            encrypted+=chr(ord(\"a\")+25-ord(char)-ord(\"a\"))\n",
    "        else:\n",
    "            encrypted+=char\n",
    "        return encrypted.lower()"
   ]
  },
  {
   "cell_type": "code",
   "execution_count": null,
   "id": "6707d2ab-2d42-4330-b845-d073dfb1f3f9",
   "metadata": {},
   "outputs": [],
   "source": [
    "encrypted_sen=encrypt(\"I want to become a Data scientist\"):\n",
    "    print(encrypted_)"
   ]
  }
 ],
 "metadata": {
  "kernelspec": {
   "display_name": "Python 3 (ipykernel)",
   "language": "python",
   "name": "python3"
  },
  "language_info": {
   "codemirror_mode": {
    "name": "ipython",
    "version": 3
   },
   "file_extension": ".py",
   "mimetype": "text/x-python",
   "name": "python",
   "nbconvert_exporter": "python",
   "pygments_lexer": "ipython3",
   "version": "3.10.8"
  }
 },
 "nbformat": 4,
 "nbformat_minor": 5
}
